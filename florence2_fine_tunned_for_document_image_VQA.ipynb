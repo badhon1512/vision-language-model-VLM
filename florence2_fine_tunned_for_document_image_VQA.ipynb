{
  "metadata": {
    "kernelspec": {
      "language": "python",
      "display_name": "Python 3",
      "name": "python3"
    },
    "language_info": {
      "name": "python",
      "version": "3.10.12",
      "mimetype": "text/x-python",
      "codemirror_mode": {
        "name": "ipython",
        "version": 3
      },
      "pygments_lexer": "ipython3",
      "nbconvert_exporter": "python",
      "file_extension": ".py"
    },
    "kaggle": {
      "accelerator": "nvidiaTeslaT4",
      "dataSources": [
        {
          "sourceId": 10518980,
          "sourceType": "datasetVersion",
          "datasetId": 6510899
        }
      ],
      "dockerImageVersionId": 30840,
      "isInternetEnabled": true,
      "language": "python",
      "sourceType": "notebook",
      "isGpuEnabled": true
    },
    "colab": {
      "name": "florence2_fine_tunned_for_document_image_VQA.ipynb",
      "provenance": [],
      "include_colab_link": true
    }
  },
  "nbformat_minor": 0,
  "nbformat": 4,
  "cells": [
    {
      "cell_type": "markdown",
      "metadata": {
        "id": "view-in-github",
        "colab_type": "text"
      },
      "source": [
        "<a href=\"https://colab.research.google.com/github/badhon1512/vision-language-model-VLM/blob/main/florence2_fine_tunned_for_document_image_VQA.ipynb\" target=\"_parent\"><img src=\"https://colab.research.google.com/assets/colab-badge.svg\" alt=\"Open In Colab\"/></a>"
      ]
    },
    {
      "cell_type": "markdown",
      "source": [
        "## In this notebook, I will fine tune floence 2 for visual question answering from the images. The model will be fine tunned so that it can featch the date from the documents\n",
        " [Dataset Link](https://huggingface.co/datasets/HuggingFaceM4/DocumentVQA)"
      ],
      "metadata": {
        "id": "MVkjthyOb0cc"
      }
    },
    {
      "cell_type": "code",
      "source": [
        "!pip install datasets flash_attn timm einops transformers pillow huggingface_hub"
      ],
      "metadata": {
        "trusted": true,
        "execution": {
          "iopub.status.busy": "2025-01-19T20:00:18.46683Z",
          "iopub.execute_input": "2025-01-19T20:00:18.467114Z",
          "iopub.status.idle": "2025-01-19T20:00:38.760986Z",
          "shell.execute_reply.started": "2025-01-19T20:00:18.467082Z",
          "shell.execute_reply": "2025-01-19T20:00:38.760012Z"
        },
        "id": "3ELTpEU2b0ce",
        "outputId": "e86e9333-0cee-4375-c35d-861684692363"
      },
      "outputs": [
        {
          "name": "stdout",
          "text": "Requirement already satisfied: datasets in /usr/local/lib/python3.10/dist-packages (3.2.0)\nCollecting flash_attn\n  Downloading flash_attn-2.7.3.tar.gz (3.2 MB)\n\u001b[2K     \u001b[90m━━━━━━━━━━━━━━━━━━━━━━━━━━━━━━━━━━━━━━━━\u001b[0m \u001b[32m3.2/3.2 MB\u001b[0m \u001b[31m32.8 MB/s\u001b[0m eta \u001b[36m0:00:00\u001b[0m00:01\u001b[0m00:01\u001b[0m\n\u001b[?25h  Preparing metadata (setup.py) ... \u001b[?25l\u001b[?25hdone\nRequirement already satisfied: timm in /usr/local/lib/python3.10/dist-packages (1.0.12)\nRequirement already satisfied: einops in /usr/local/lib/python3.10/dist-packages (0.8.0)\nRequirement already satisfied: transformers in /usr/local/lib/python3.10/dist-packages (4.47.0)\nRequirement already satisfied: pillow in /usr/local/lib/python3.10/dist-packages (11.0.0)\nRequirement already satisfied: huggingface_hub in /usr/local/lib/python3.10/dist-packages (0.27.0)\nRequirement already satisfied: filelock in /usr/local/lib/python3.10/dist-packages (from datasets) (3.16.1)\nRequirement already satisfied: numpy>=1.17 in /usr/local/lib/python3.10/dist-packages (from datasets) (1.26.4)\nRequirement already satisfied: pyarrow>=15.0.0 in /usr/local/lib/python3.10/dist-packages (from datasets) (17.0.0)\nRequirement already satisfied: dill<0.3.9,>=0.3.0 in /usr/local/lib/python3.10/dist-packages (from datasets) (0.3.8)\nRequirement already satisfied: pandas in /usr/local/lib/python3.10/dist-packages (from datasets) (2.2.2)\nRequirement already satisfied: requests>=2.32.2 in /usr/local/lib/python3.10/dist-packages (from datasets) (2.32.3)\nRequirement already satisfied: tqdm>=4.66.3 in /usr/local/lib/python3.10/dist-packages (from datasets) (4.67.1)\nRequirement already satisfied: xxhash in /usr/local/lib/python3.10/dist-packages (from datasets) (3.5.0)\nRequirement already satisfied: multiprocess<0.70.17 in /usr/local/lib/python3.10/dist-packages (from datasets) (0.70.16)\nRequirement already satisfied: fsspec<=2024.9.0,>=2023.1.0 in /usr/local/lib/python3.10/dist-packages (from fsspec[http]<=2024.9.0,>=2023.1.0->datasets) (2024.9.0)\nRequirement already satisfied: aiohttp in /usr/local/lib/python3.10/dist-packages (from datasets) (3.11.10)\nRequirement already satisfied: packaging in /usr/local/lib/python3.10/dist-packages (from datasets) (24.2)\nRequirement already satisfied: pyyaml>=5.1 in /usr/local/lib/python3.10/dist-packages (from datasets) (6.0.2)\nRequirement already satisfied: torch in /usr/local/lib/python3.10/dist-packages (from flash_attn) (2.5.1+cu121)\nRequirement already satisfied: torchvision in /usr/local/lib/python3.10/dist-packages (from timm) (0.20.1+cu121)\nRequirement already satisfied: safetensors in /usr/local/lib/python3.10/dist-packages (from timm) (0.4.5)\nRequirement already satisfied: regex!=2019.12.17 in /usr/local/lib/python3.10/dist-packages (from transformers) (2024.11.6)\nRequirement already satisfied: tokenizers<0.22,>=0.21 in /usr/local/lib/python3.10/dist-packages (from transformers) (0.21.0)\nRequirement already satisfied: typing-extensions>=3.7.4.3 in /usr/local/lib/python3.10/dist-packages (from huggingface_hub) (4.12.2)\nRequirement already satisfied: aiohappyeyeballs>=2.3.0 in /usr/local/lib/python3.10/dist-packages (from aiohttp->datasets) (2.4.4)\nRequirement already satisfied: aiosignal>=1.1.2 in /usr/local/lib/python3.10/dist-packages (from aiohttp->datasets) (1.3.2)\nRequirement already satisfied: async-timeout<6.0,>=4.0 in /usr/local/lib/python3.10/dist-packages (from aiohttp->datasets) (4.0.3)\nRequirement already satisfied: attrs>=17.3.0 in /usr/local/lib/python3.10/dist-packages (from aiohttp->datasets) (24.3.0)\nRequirement already satisfied: frozenlist>=1.1.1 in /usr/local/lib/python3.10/dist-packages (from aiohttp->datasets) (1.5.0)\nRequirement already satisfied: multidict<7.0,>=4.5 in /usr/local/lib/python3.10/dist-packages (from aiohttp->datasets) (6.1.0)\nRequirement already satisfied: propcache>=0.2.0 in /usr/local/lib/python3.10/dist-packages (from aiohttp->datasets) (0.2.1)\nRequirement already satisfied: yarl<2.0,>=1.17.0 in /usr/local/lib/python3.10/dist-packages (from aiohttp->datasets) (1.18.3)\nRequirement already satisfied: mkl_fft in /usr/local/lib/python3.10/dist-packages (from numpy>=1.17->datasets) (1.3.8)\nRequirement already satisfied: mkl_random in /usr/local/lib/python3.10/dist-packages (from numpy>=1.17->datasets) (1.2.4)\nRequirement already satisfied: mkl_umath in /usr/local/lib/python3.10/dist-packages (from numpy>=1.17->datasets) (0.1.1)\nRequirement already satisfied: mkl in /usr/local/lib/python3.10/dist-packages (from numpy>=1.17->datasets) (2025.0.1)\nRequirement already satisfied: tbb4py in /usr/local/lib/python3.10/dist-packages (from numpy>=1.17->datasets) (2022.0.0)\nRequirement already satisfied: mkl-service in /usr/local/lib/python3.10/dist-packages (from numpy>=1.17->datasets) (2.4.1)\nRequirement already satisfied: charset-normalizer<4,>=2 in /usr/local/lib/python3.10/dist-packages (from requests>=2.32.2->datasets) (3.4.0)\nRequirement already satisfied: idna<4,>=2.5 in /usr/local/lib/python3.10/dist-packages (from requests>=2.32.2->datasets) (3.10)\nRequirement already satisfied: urllib3<3,>=1.21.1 in /usr/local/lib/python3.10/dist-packages (from requests>=2.32.2->datasets) (2.2.3)\nRequirement already satisfied: certifi>=2017.4.17 in /usr/local/lib/python3.10/dist-packages (from requests>=2.32.2->datasets) (2024.12.14)\nRequirement already satisfied: python-dateutil>=2.8.2 in /usr/local/lib/python3.10/dist-packages (from pandas->datasets) (2.8.2)\nRequirement already satisfied: pytz>=2020.1 in /usr/local/lib/python3.10/dist-packages (from pandas->datasets) (2024.2)\nRequirement already satisfied: tzdata>=2022.7 in /usr/local/lib/python3.10/dist-packages (from pandas->datasets) (2024.2)\nRequirement already satisfied: networkx in /usr/local/lib/python3.10/dist-packages (from torch->flash_attn) (3.4.2)\nRequirement already satisfied: jinja2 in /usr/local/lib/python3.10/dist-packages (from torch->flash_attn) (3.1.4)\nRequirement already satisfied: sympy==1.13.1 in /usr/local/lib/python3.10/dist-packages (from torch->flash_attn) (1.13.1)\nRequirement already satisfied: mpmath<1.4,>=1.1.0 in /usr/local/lib/python3.10/dist-packages (from sympy==1.13.1->torch->flash_attn) (1.3.0)\nRequirement already satisfied: six>=1.5 in /usr/local/lib/python3.10/dist-packages (from python-dateutil>=2.8.2->pandas->datasets) (1.17.0)\nRequirement already satisfied: MarkupSafe>=2.0 in /usr/local/lib/python3.10/dist-packages (from jinja2->torch->flash_attn) (3.0.2)\nRequirement already satisfied: intel-openmp>=2024 in /usr/local/lib/python3.10/dist-packages (from mkl->numpy>=1.17->datasets) (2024.2.0)\nRequirement already satisfied: tbb==2022.* in /usr/local/lib/python3.10/dist-packages (from mkl->numpy>=1.17->datasets) (2022.0.0)\nRequirement already satisfied: tcmlib==1.* in /usr/local/lib/python3.10/dist-packages (from tbb==2022.*->mkl->numpy>=1.17->datasets) (1.2.0)\nRequirement already satisfied: intel-cmplr-lib-rt in /usr/local/lib/python3.10/dist-packages (from mkl_umath->numpy>=1.17->datasets) (2024.2.0)\nRequirement already satisfied: intel-cmplr-lib-ur==2024.2.0 in /usr/local/lib/python3.10/dist-packages (from intel-openmp>=2024->mkl->numpy>=1.17->datasets) (2024.2.0)\nBuilding wheels for collected packages: flash_attn\n  Building wheel for flash_attn (setup.py) ... \u001b[?25l\u001b[?25hdone\n  Created wheel for flash_attn: filename=flash_attn-2.7.3-cp310-cp310-linux_x86_64.whl size=191342964 sha256=cd0ead6ad92bff21f90cf0aecdf859bc7145bf4e7dc8ed1fdc3cc38299651ce4\n  Stored in directory: /root/.cache/pip/wheels/85/d7/10/a74c9fe5ffe6ff306b27a220b2bf2f37d907b68fdcd138cdda\nSuccessfully built flash_attn\nInstalling collected packages: flash_attn\nSuccessfully installed flash_attn-2.7.3\n",
          "output_type": "stream"
        }
      ],
      "execution_count": null
    },
    {
      "cell_type": "code",
      "source": [
        "from datasets import load_dataset\n",
        "from transformers import AutoModelForCausalLM, AutoProcessor\n",
        "import torch\n",
        "import os\n",
        "from torch.utils.data import DataLoader\n",
        "from tqdm import tqdm\n",
        "from transformers import (AdamW, AutoProcessor, get_scheduler)\n",
        "from torch.utils.data import Dataset"
      ],
      "metadata": {
        "trusted": true,
        "execution": {
          "iopub.status.busy": "2025-01-19T20:07:02.436379Z",
          "iopub.execute_input": "2025-01-19T20:07:02.43692Z",
          "iopub.status.idle": "2025-01-19T20:07:20.825903Z",
          "shell.execute_reply.started": "2025-01-19T20:07:02.436877Z",
          "shell.execute_reply": "2025-01-19T20:07:20.825Z"
        },
        "id": "_Sobwv6zb0ch"
      },
      "outputs": [],
      "execution_count": null
    },
    {
      "cell_type": "markdown",
      "source": [
        "### Load model and tokenizer"
      ],
      "metadata": {
        "id": "-kX8n_yib0ci"
      }
    },
    {
      "cell_type": "code",
      "source": [
        "model_id = \"microsoft/Florence-2-base-ft\"\n",
        "device = torch.device(\"cuda\" if torch.cuda.is_available() else \"cpu\")\n",
        "model = AutoModelForCausalLM.from_pretrained(model_id, trust_remote_code=True, revision='refs/pr/6').to(device)\n",
        "processor = AutoProcessor.from_pretrained(model_id, trust_remote_code=True, revision='refs/pr/6')\n",
        "torch.cuda.empty_cache()"
      ],
      "metadata": {
        "trusted": true,
        "execution": {
          "iopub.status.busy": "2025-01-19T20:07:28.955698Z",
          "iopub.execute_input": "2025-01-19T20:07:28.956493Z",
          "iopub.status.idle": "2025-01-19T20:07:49.435137Z",
          "shell.execute_reply.started": "2025-01-19T20:07:28.95645Z",
          "shell.execute_reply": "2025-01-19T20:07:49.434021Z"
        },
        "id": "M-b0-1nPb0ci",
        "outputId": "20927a30-fd18-4d39-bd5b-020abce4b5f4",
        "colab": {
          "referenced_widgets": [
            "715c8627d6c544d995778eafe8b29a4d",
            "64dbdec5ca6d4907b39430cdbf4377df",
            "3b2a826bc9454af6a8abff2e060932c9",
            "6e65b07ec29f4868b2eb150e34e2ddcb",
            "11d9a1aa56d849de8abc3ec805af9656",
            "f5c858fa7c004e73aa7ac2d1949d431a",
            "14306dc22ea6473a9551577f74efbe0f",
            "2c48d0e6e00042ed8025609bfe63e75c",
            "fb75a7a7895845499f8b644a6f892017"
          ]
        }
      },
      "outputs": [
        {
          "output_type": "display_data",
          "data": {
            "text/plain": "config.json:   0%|          | 0.00/2.43k [00:00<?, ?B/s]",
            "application/vnd.jupyter.widget-view+json": {
              "version_major": 2,
              "version_minor": 0,
              "model_id": "715c8627d6c544d995778eafe8b29a4d"
            }
          },
          "metadata": {}
        },
        {
          "output_type": "display_data",
          "data": {
            "text/plain": "configuration_florence2.py:   0%|          | 0.00/15.1k [00:00<?, ?B/s]",
            "application/vnd.jupyter.widget-view+json": {
              "version_major": 2,
              "version_minor": 0,
              "model_id": "64dbdec5ca6d4907b39430cdbf4377df"
            }
          },
          "metadata": {}
        },
        {
          "output_type": "display_data",
          "data": {
            "text/plain": "modeling_florence2.py:   0%|          | 0.00/127k [00:00<?, ?B/s]",
            "application/vnd.jupyter.widget-view+json": {
              "version_major": 2,
              "version_minor": 0,
              "model_id": "3b2a826bc9454af6a8abff2e060932c9"
            }
          },
          "metadata": {}
        },
        {
          "name": "stderr",
          "text": "/usr/local/lib/python3.10/dist-packages/timm/models/layers/__init__.py:48: FutureWarning: Importing from timm.models.layers is deprecated, please import via timm.layers\n  warnings.warn(f\"Importing from {__name__} is deprecated, please import via timm.layers\", FutureWarning)\n",
          "output_type": "stream"
        },
        {
          "output_type": "display_data",
          "data": {
            "text/plain": "pytorch_model.bin:   0%|          | 0.00/464M [00:00<?, ?B/s]",
            "application/vnd.jupyter.widget-view+json": {
              "version_major": 2,
              "version_minor": 0,
              "model_id": "6e65b07ec29f4868b2eb150e34e2ddcb"
            }
          },
          "metadata": {}
        },
        {
          "name": "stderr",
          "text": "Florence2LanguageForConditionalGeneration has generative capabilities, as `prepare_inputs_for_generation` is explicitly overwritten. However, it doesn't directly inherit from `GenerationMixin`. From 👉v4.50👈 onwards, `PreTrainedModel` will NOT inherit from `GenerationMixin`, and this model will lose the ability to call `generate` and other related functions.\n  - If you're using `trust_remote_code=True`, you can get rid of this warning by loading the model with an auto class. See https://huggingface.co/docs/transformers/en/model_doc/auto#auto-classes\n  - If you are the owner of the model architecture code, please modify your model class such that it inherits from `GenerationMixin` (after `PreTrainedModel`, otherwise you'll get an exception).\n  - If you are not the owner of the model architecture class, please contact the model code owner to update it.\n",
          "output_type": "stream"
        },
        {
          "output_type": "display_data",
          "data": {
            "text/plain": "preprocessor_config.json:   0%|          | 0.00/806 [00:00<?, ?B/s]",
            "application/vnd.jupyter.widget-view+json": {
              "version_major": 2,
              "version_minor": 0,
              "model_id": "11d9a1aa56d849de8abc3ec805af9656"
            }
          },
          "metadata": {}
        },
        {
          "output_type": "display_data",
          "data": {
            "text/plain": "processing_florence2.py:   0%|          | 0.00/46.4k [00:00<?, ?B/s]",
            "application/vnd.jupyter.widget-view+json": {
              "version_major": 2,
              "version_minor": 0,
              "model_id": "f5c858fa7c004e73aa7ac2d1949d431a"
            }
          },
          "metadata": {}
        },
        {
          "output_type": "display_data",
          "data": {
            "text/plain": "tokenizer_config.json:   0%|          | 0.00/34.0 [00:00<?, ?B/s]",
            "application/vnd.jupyter.widget-view+json": {
              "version_major": 2,
              "version_minor": 0,
              "model_id": "14306dc22ea6473a9551577f74efbe0f"
            }
          },
          "metadata": {}
        },
        {
          "output_type": "display_data",
          "data": {
            "text/plain": "vocab.json:   0%|          | 0.00/1.10M [00:00<?, ?B/s]",
            "application/vnd.jupyter.widget-view+json": {
              "version_major": 2,
              "version_minor": 0,
              "model_id": "2c48d0e6e00042ed8025609bfe63e75c"
            }
          },
          "metadata": {}
        },
        {
          "output_type": "display_data",
          "data": {
            "text/plain": "tokenizer.json:   0%|          | 0.00/1.36M [00:00<?, ?B/s]",
            "application/vnd.jupyter.widget-view+json": {
              "version_major": 2,
              "version_minor": 0,
              "model_id": "fb75a7a7895845499f8b644a6f892017"
            }
          },
          "metadata": {}
        },
        {
          "name": "stderr",
          "text": "A new version of the following files was downloaded from https://huggingface.co/microsoft/Florence-2-base-ft:\n- configuration_florence2.py\n. Make sure to double-check they do not contain any added malicious code. To avoid downloading new versions of the code file, you can pin a revision.\n",
          "output_type": "stream"
        }
      ],
      "execution_count": null
    },
    {
      "cell_type": "code",
      "source": [
        "p_model = model"
      ],
      "metadata": {
        "trusted": true,
        "id": "T1lrfcSlb0ck"
      },
      "outputs": [],
      "execution_count": null
    },
    {
      "cell_type": "markdown",
      "source": [
        "### Let's load the dataset"
      ],
      "metadata": {
        "id": "_TGfGcPib0ck"
      }
    },
    {
      "cell_type": "code",
      "source": [
        "data = load_dataset(\"HuggingFaceM4/DocumentVQA\" , split=\"train[:2000]\")"
      ],
      "metadata": {
        "trusted": true,
        "execution": {
          "iopub.status.busy": "2025-01-19T20:16:49.632992Z",
          "iopub.execute_input": "2025-01-19T20:16:49.633346Z",
          "iopub.status.idle": "2025-01-19T20:23:05.634438Z",
          "shell.execute_reply.started": "2025-01-19T20:16:49.633319Z",
          "shell.execute_reply": "2025-01-19T20:23:05.633536Z"
        },
        "id": "WHHicvXYb0cl",
        "outputId": "d5381a9b-e8c1-4f5f-8bb4-ad1e47571c06",
        "colab": {
          "referenced_widgets": [
            "8954566f117a4800bbab3919a416b185",
            "fc99d3a9b8d6470f8384af1cde134395",
            "1f5c81f902ed48489d671fed681f8ac1",
            "1205c880efd742279309b73eed4e5c59",
            "fb006b615fcb43ec9fc8c7a95b3762b2",
            "889e250074f14f2880ed6f9972dcb059",
            "f310f271e511467491e6662bf8eba755",
            "41d0f053d00748c789af4ca1ecdc6442",
            "0750d8a8398d4170a781b5a531f9ef7a",
            "5db14c51dc8a44d9aabd13f68a1a8767",
            "b75f354527154bf8982a4f890cd05005",
            "dd0ca3bd162949f6a8c9b97f830ac8c0",
            "4c0f08aa810c496e9c3d4922c822801c",
            "e6fee957b7564484923231c21dc0cf21",
            "dba97ed035d64c90a038a624799429ac",
            "893465df61e2433ca768b99419c4c872",
            "8b814d0683ed42fb82e23724b8f91de2",
            "e8b52d5447ec4878bf0443c42d4cc6eb",
            "f5b41d5359084cd8b5ffd2b62718704d",
            "1dd830875f4d4e5997e1800c16e835fc",
            "c0aa05d4c99648f2ad3fdb557260cca8",
            "189396ae2b564442953877156bd442a1",
            "af39d00b841142629532589271ff00ed",
            "34956e5286ff48f0b2d744d9dce48a29",
            "1cd8f4a7080945efb09ff79ba128510f",
            "cef253baac354401bfc317dd85306514",
            "d44eeebda993451ea3037488fe5bc8ef",
            "3c043331efcd4a488a80fc559c8d6220",
            "b1b7a31f014f42949a64149fb34c70af",
            "e5e8244fc3de40b0ac67c58113231cc1",
            "94fdf756d09f45459d11241f2fbac67d",
            "2387d6dc40234acc907834adf1eab8b3",
            "19148f0fec2b4a14a8109c307f6dd38a",
            "8d13e6c92b4a4b28b814fc074fe1a174",
            "fdce7e4fbab04540be9696a5879764a3",
            "d4bd0e6e94f049af9d87121b26859969",
            "5d6c9dd038b3435dab233d66dd809f4c",
            "11d33c945a624ecaa628f90f1d64c36c",
            "c1cfad8110ec4959874043c3a7d94daf",
            "6319a0f4c12a48ccb11128fb1c0ca7d5",
            "79e2a88297f24b54877ebf6a6ff1b412",
            "e10ba6428aec49e8b43848abdfa80720",
            "de3283ce1b7a4357a67d989e2f4e1306",
            "fc365cfe29d64bc693cb240d0a95dc1f",
            "c0b6596eb9c3425aa9dc72bf98414963",
            "37f5d6f7575946aaa756fb061009cd92",
            "140bb11d0fee4e869cd494653425ce14",
            "863eda42835d48cdbe6aecb12fc18d12",
            "6d62a509fca641f6bb97840b6386e7fa",
            "d953d0c6a45e437ba3c2a811bd391406",
            "dbf7b6aa112c494faabce0db81a460fa",
            "342db9e239fb49c3bebb89a7c14f2fa4",
            "b24d5b24c4a946f9b8c73656ae9c4fb5",
            "2121b22ae62f4eb4bb0de3cfa02d112a",
            "d49bccf80b9342e6bc3f846b106891c4",
            "475ff8b0d8d447858c57ad6ee5bc1d1e",
            "584468be6ffe422fbc08e35a9ed1574e",
            "b0bab5e849fd457ca3e1b3e93115d145",
            "c1e25368ad8d4a0d90d7a81582fb6aa0",
            "4eafacf6e98c41f6bbf86d047a2cdba1",
            "b6b627a82e3c4d359a69a064ed85fb89",
            "cae20d8b8be84805af8c5447af89f180",
            "8fc04b0e5d39424c9216d780d0f2cf16",
            "c58a64446cdc4ba0aab0f9d31a6fe19d",
            "a370a52de89b4057975243eaa0774142",
            "fd7a7ed0463f419ea0244450c2044f51",
            "8e1c065b0b0748dab6858e6d420ccae9",
            "2dc5d94dba2e41b992513e94bdfbe41f",
            "88a0443e645049f38f4ef220d26b56ed",
            "435d482431054d26b8bafd349e7399bf",
            "d434833cbe1e40cb90faa34595c0b613",
            "eafd082c917d4684bb92127edba66f66",
            "732401ab3bdd4abbb330a4e82feac3eb",
            "01d237bba94d402badbc2c8ffc171584",
            "55a9628a14714645a4453e79c06781a9",
            "e726a2d8f1714bdd9975430c8a68765d",
            "734ade0578ac4cb6a4e1b00a7be952a9",
            "48f5b80b245e424692daa81cb6821258",
            "ba117919e8b14acd84ffca76ebbea100",
            "fe24364820e34184b72c9095c07c238f",
            "82e6c64913f8493ab608faa704df9508",
            "16ee9cd914e5405c9a4ec2121f5ea8db",
            "c3d33c0acafc4d14a64725b946b7b7ad",
            "a9eaabd0dcc647e3a37a6e85b80f0af6",
            "2923599d0e7b4600b81669e9af007ba0"
          ]
        }
      },
      "outputs": [
        {
          "output_type": "display_data",
          "data": {
            "text/plain": "README.md:   0%|          | 0.00/806 [00:00<?, ?B/s]",
            "application/vnd.jupyter.widget-view+json": {
              "version_major": 2,
              "version_minor": 0,
              "model_id": "8954566f117a4800bbab3919a416b185"
            }
          },
          "metadata": {}
        },
        {
          "output_type": "display_data",
          "data": {
            "text/plain": "Resolving data files:   0%|          | 0/38 [00:00<?, ?it/s]",
            "application/vnd.jupyter.widget-view+json": {
              "version_major": 2,
              "version_minor": 0,
              "model_id": "fc99d3a9b8d6470f8384af1cde134395"
            }
          },
          "metadata": {}
        },
        {
          "output_type": "display_data",
          "data": {
            "text/plain": "Resolving data files:   0%|          | 0/17 [00:00<?, ?it/s]",
            "application/vnd.jupyter.widget-view+json": {
              "version_major": 2,
              "version_minor": 0,
              "model_id": "1f5c81f902ed48489d671fed681f8ac1"
            }
          },
          "metadata": {}
        },
        {
          "output_type": "display_data",
          "data": {
            "text/plain": "Resolving data files:   0%|          | 0/17 [00:00<?, ?it/s]",
            "application/vnd.jupyter.widget-view+json": {
              "version_major": 2,
              "version_minor": 0,
              "model_id": "1205c880efd742279309b73eed4e5c59"
            }
          },
          "metadata": {}
        },
        {
          "output_type": "display_data",
          "data": {
            "text/plain": "Resolving data files:   0%|          | 0/38 [00:00<?, ?it/s]",
            "application/vnd.jupyter.widget-view+json": {
              "version_major": 2,
              "version_minor": 0,
              "model_id": "fb006b615fcb43ec9fc8c7a95b3762b2"
            }
          },
          "metadata": {}
        },
        {
          "output_type": "display_data",
          "data": {
            "text/plain": "Resolving data files:   0%|          | 0/17 [00:00<?, ?it/s]",
            "application/vnd.jupyter.widget-view+json": {
              "version_major": 2,
              "version_minor": 0,
              "model_id": "889e250074f14f2880ed6f9972dcb059"
            }
          },
          "metadata": {}
        },
        {
          "output_type": "display_data",
          "data": {
            "text/plain": "Resolving data files:   0%|          | 0/17 [00:00<?, ?it/s]",
            "application/vnd.jupyter.widget-view+json": {
              "version_major": 2,
              "version_minor": 0,
              "model_id": "f310f271e511467491e6662bf8eba755"
            }
          },
          "metadata": {}
        },
        {
          "output_type": "display_data",
          "data": {
            "text/plain": "Downloading data:   0%|          | 0/38 [00:00<?, ?files/s]",
            "application/vnd.jupyter.widget-view+json": {
              "version_major": 2,
              "version_minor": 0,
              "model_id": "41d0f053d00748c789af4ca1ecdc6442"
            }
          },
          "metadata": {}
        },
        {
          "output_type": "display_data",
          "data": {
            "text/plain": "train-00000-of-00038.parquet:   0%|          | 0.00/61.0M [00:00<?, ?B/s]",
            "application/vnd.jupyter.widget-view+json": {
              "version_major": 2,
              "version_minor": 0,
              "model_id": "0750d8a8398d4170a781b5a531f9ef7a"
            }
          },
          "metadata": {}
        },
        {
          "output_type": "display_data",
          "data": {
            "text/plain": "train-00001-of-00038.parquet:   0%|          | 0.00/275M [00:00<?, ?B/s]",
            "application/vnd.jupyter.widget-view+json": {
              "version_major": 2,
              "version_minor": 0,
              "model_id": "5db14c51dc8a44d9aabd13f68a1a8767"
            }
          },
          "metadata": {}
        },
        {
          "output_type": "display_data",
          "data": {
            "text/plain": "train-00002-of-00038.parquet:   0%|          | 0.00/220M [00:00<?, ?B/s]",
            "application/vnd.jupyter.widget-view+json": {
              "version_major": 2,
              "version_minor": 0,
              "model_id": "b75f354527154bf8982a4f890cd05005"
            }
          },
          "metadata": {}
        },
        {
          "output_type": "display_data",
          "data": {
            "text/plain": "train-00003-of-00038.parquet:   0%|          | 0.00/83.2M [00:00<?, ?B/s]",
            "application/vnd.jupyter.widget-view+json": {
              "version_major": 2,
              "version_minor": 0,
              "model_id": "dd0ca3bd162949f6a8c9b97f830ac8c0"
            }
          },
          "metadata": {}
        },
        {
          "output_type": "display_data",
          "data": {
            "text/plain": "train-00004-of-00038.parquet:   0%|          | 0.00/20.4M [00:00<?, ?B/s]",
            "application/vnd.jupyter.widget-view+json": {
              "version_major": 2,
              "version_minor": 0,
              "model_id": "4c0f08aa810c496e9c3d4922c822801c"
            }
          },
          "metadata": {}
        },
        {
          "output_type": "display_data",
          "data": {
            "text/plain": "train-00005-of-00038.parquet:   0%|          | 0.00/24.0M [00:00<?, ?B/s]",
            "application/vnd.jupyter.widget-view+json": {
              "version_major": 2,
              "version_minor": 0,
              "model_id": "e6fee957b7564484923231c21dc0cf21"
            }
          },
          "metadata": {}
        },
        {
          "output_type": "display_data",
          "data": {
            "text/plain": "train-00006-of-00038.parquet:   0%|          | 0.00/26.2M [00:00<?, ?B/s]",
            "application/vnd.jupyter.widget-view+json": {
              "version_major": 2,
              "version_minor": 0,
              "model_id": "dba97ed035d64c90a038a624799429ac"
            }
          },
          "metadata": {}
        },
        {
          "output_type": "display_data",
          "data": {
            "text/plain": "train-00007-of-00038.parquet:   0%|          | 0.00/21.0M [00:00<?, ?B/s]",
            "application/vnd.jupyter.widget-view+json": {
              "version_major": 2,
              "version_minor": 0,
              "model_id": "893465df61e2433ca768b99419c4c872"
            }
          },
          "metadata": {}
        },
        {
          "output_type": "display_data",
          "data": {
            "text/plain": "train-00008-of-00038.parquet:   0%|          | 0.00/33.3M [00:00<?, ?B/s]",
            "application/vnd.jupyter.widget-view+json": {
              "version_major": 2,
              "version_minor": 0,
              "model_id": "8b814d0683ed42fb82e23724b8f91de2"
            }
          },
          "metadata": {}
        },
        {
          "output_type": "display_data",
          "data": {
            "text/plain": "train-00009-of-00038.parquet:   0%|          | 0.00/33.8M [00:00<?, ?B/s]",
            "application/vnd.jupyter.widget-view+json": {
              "version_major": 2,
              "version_minor": 0,
              "model_id": "e8b52d5447ec4878bf0443c42d4cc6eb"
            }
          },
          "metadata": {}
        },
        {
          "output_type": "display_data",
          "data": {
            "text/plain": "train-00010-of-00038.parquet:   0%|          | 0.00/25.1M [00:00<?, ?B/s]",
            "application/vnd.jupyter.widget-view+json": {
              "version_major": 2,
              "version_minor": 0,
              "model_id": "f5b41d5359084cd8b5ffd2b62718704d"
            }
          },
          "metadata": {}
        },
        {
          "output_type": "display_data",
          "data": {
            "text/plain": "train-00011-of-00038.parquet:   0%|          | 0.00/188M [00:00<?, ?B/s]",
            "application/vnd.jupyter.widget-view+json": {
              "version_major": 2,
              "version_minor": 0,
              "model_id": "1dd830875f4d4e5997e1800c16e835fc"
            }
          },
          "metadata": {}
        },
        {
          "output_type": "display_data",
          "data": {
            "text/plain": "train-00012-of-00038.parquet:   0%|          | 0.00/210M [00:00<?, ?B/s]",
            "application/vnd.jupyter.widget-view+json": {
              "version_major": 2,
              "version_minor": 0,
              "model_id": "c0aa05d4c99648f2ad3fdb557260cca8"
            }
          },
          "metadata": {}
        },
        {
          "output_type": "display_data",
          "data": {
            "text/plain": "train-00013-of-00038.parquet:   0%|          | 0.00/333M [00:00<?, ?B/s]",
            "application/vnd.jupyter.widget-view+json": {
              "version_major": 2,
              "version_minor": 0,
              "model_id": "189396ae2b564442953877156bd442a1"
            }
          },
          "metadata": {}
        },
        {
          "output_type": "display_data",
          "data": {
            "text/plain": "train-00014-of-00038.parquet:   0%|          | 0.00/126M [00:00<?, ?B/s]",
            "application/vnd.jupyter.widget-view+json": {
              "version_major": 2,
              "version_minor": 0,
              "model_id": "af39d00b841142629532589271ff00ed"
            }
          },
          "metadata": {}
        },
        {
          "output_type": "display_data",
          "data": {
            "text/plain": "train-00015-of-00038.parquet:   0%|          | 0.00/292M [00:00<?, ?B/s]",
            "application/vnd.jupyter.widget-view+json": {
              "version_major": 2,
              "version_minor": 0,
              "model_id": "34956e5286ff48f0b2d744d9dce48a29"
            }
          },
          "metadata": {}
        },
        {
          "output_type": "display_data",
          "data": {
            "text/plain": "train-00016-of-00038.parquet:   0%|          | 0.00/330M [00:00<?, ?B/s]",
            "application/vnd.jupyter.widget-view+json": {
              "version_major": 2,
              "version_minor": 0,
              "model_id": "1cd8f4a7080945efb09ff79ba128510f"
            }
          },
          "metadata": {}
        },
        {
          "output_type": "display_data",
          "data": {
            "text/plain": "train-00017-of-00038.parquet:   0%|          | 0.00/306M [00:00<?, ?B/s]",
            "application/vnd.jupyter.widget-view+json": {
              "version_major": 2,
              "version_minor": 0,
              "model_id": "cef253baac354401bfc317dd85306514"
            }
          },
          "metadata": {}
        },
        {
          "output_type": "display_data",
          "data": {
            "text/plain": "train-00018-of-00038.parquet:   0%|          | 0.00/355M [00:00<?, ?B/s]",
            "application/vnd.jupyter.widget-view+json": {
              "version_major": 2,
              "version_minor": 0,
              "model_id": "d44eeebda993451ea3037488fe5bc8ef"
            }
          },
          "metadata": {}
        },
        {
          "output_type": "display_data",
          "data": {
            "text/plain": "train-00019-of-00038.parquet:   0%|          | 0.00/321M [00:00<?, ?B/s]",
            "application/vnd.jupyter.widget-view+json": {
              "version_major": 2,
              "version_minor": 0,
              "model_id": "3c043331efcd4a488a80fc559c8d6220"
            }
          },
          "metadata": {}
        },
        {
          "output_type": "display_data",
          "data": {
            "text/plain": "train-00020-of-00038.parquet:   0%|          | 0.00/381M [00:00<?, ?B/s]",
            "application/vnd.jupyter.widget-view+json": {
              "version_major": 2,
              "version_minor": 0,
              "model_id": "b1b7a31f014f42949a64149fb34c70af"
            }
          },
          "metadata": {}
        },
        {
          "output_type": "display_data",
          "data": {
            "text/plain": "train-00021-of-00038.parquet:   0%|          | 0.00/276M [00:00<?, ?B/s]",
            "application/vnd.jupyter.widget-view+json": {
              "version_major": 2,
              "version_minor": 0,
              "model_id": "e5e8244fc3de40b0ac67c58113231cc1"
            }
          },
          "metadata": {}
        },
        {
          "output_type": "display_data",
          "data": {
            "text/plain": "train-00022-of-00038.parquet:   0%|          | 0.00/394M [00:00<?, ?B/s]",
            "application/vnd.jupyter.widget-view+json": {
              "version_major": 2,
              "version_minor": 0,
              "model_id": "94fdf756d09f45459d11241f2fbac67d"
            }
          },
          "metadata": {}
        },
        {
          "output_type": "display_data",
          "data": {
            "text/plain": "train-00023-of-00038.parquet:   0%|          | 0.00/382M [00:00<?, ?B/s]",
            "application/vnd.jupyter.widget-view+json": {
              "version_major": 2,
              "version_minor": 0,
              "model_id": "2387d6dc40234acc907834adf1eab8b3"
            }
          },
          "metadata": {}
        },
        {
          "output_type": "display_data",
          "data": {
            "text/plain": "train-00024-of-00038.parquet:   0%|          | 0.00/346M [00:00<?, ?B/s]",
            "application/vnd.jupyter.widget-view+json": {
              "version_major": 2,
              "version_minor": 0,
              "model_id": "19148f0fec2b4a14a8109c307f6dd38a"
            }
          },
          "metadata": {}
        },
        {
          "output_type": "display_data",
          "data": {
            "text/plain": "train-00025-of-00038.parquet:   0%|          | 0.00/321M [00:00<?, ?B/s]",
            "application/vnd.jupyter.widget-view+json": {
              "version_major": 2,
              "version_minor": 0,
              "model_id": "8d13e6c92b4a4b28b814fc074fe1a174"
            }
          },
          "metadata": {}
        },
        {
          "output_type": "display_data",
          "data": {
            "text/plain": "train-00026-of-00038.parquet:   0%|          | 0.00/89.4M [00:00<?, ?B/s]",
            "application/vnd.jupyter.widget-view+json": {
              "version_major": 2,
              "version_minor": 0,
              "model_id": "fdce7e4fbab04540be9696a5879764a3"
            }
          },
          "metadata": {}
        },
        {
          "output_type": "display_data",
          "data": {
            "text/plain": "train-00027-of-00038.parquet:   0%|          | 0.00/51.1M [00:00<?, ?B/s]",
            "application/vnd.jupyter.widget-view+json": {
              "version_major": 2,
              "version_minor": 0,
              "model_id": "d4bd0e6e94f049af9d87121b26859969"
            }
          },
          "metadata": {}
        },
        {
          "output_type": "display_data",
          "data": {
            "text/plain": "train-00028-of-00038.parquet:   0%|          | 0.00/103M [00:00<?, ?B/s]",
            "application/vnd.jupyter.widget-view+json": {
              "version_major": 2,
              "version_minor": 0,
              "model_id": "5d6c9dd038b3435dab233d66dd809f4c"
            }
          },
          "metadata": {}
        },
        {
          "output_type": "display_data",
          "data": {
            "text/plain": "train-00029-of-00038.parquet:   0%|          | 0.00/226M [00:00<?, ?B/s]",
            "application/vnd.jupyter.widget-view+json": {
              "version_major": 2,
              "version_minor": 0,
              "model_id": "11d33c945a624ecaa628f90f1d64c36c"
            }
          },
          "metadata": {}
        },
        {
          "output_type": "display_data",
          "data": {
            "text/plain": "train-00030-of-00038.parquet:   0%|          | 0.00/291M [00:00<?, ?B/s]",
            "application/vnd.jupyter.widget-view+json": {
              "version_major": 2,
              "version_minor": 0,
              "model_id": "c1cfad8110ec4959874043c3a7d94daf"
            }
          },
          "metadata": {}
        },
        {
          "output_type": "display_data",
          "data": {
            "text/plain": "train-00031-of-00038.parquet:   0%|          | 0.00/240M [00:00<?, ?B/s]",
            "application/vnd.jupyter.widget-view+json": {
              "version_major": 2,
              "version_minor": 0,
              "model_id": "6319a0f4c12a48ccb11128fb1c0ca7d5"
            }
          },
          "metadata": {}
        },
        {
          "output_type": "display_data",
          "data": {
            "text/plain": "train-00032-of-00038.parquet:   0%|          | 0.00/130M [00:00<?, ?B/s]",
            "application/vnd.jupyter.widget-view+json": {
              "version_major": 2,
              "version_minor": 0,
              "model_id": "79e2a88297f24b54877ebf6a6ff1b412"
            }
          },
          "metadata": {}
        },
        {
          "output_type": "display_data",
          "data": {
            "text/plain": "train-00033-of-00038.parquet:   0%|          | 0.00/48.2M [00:00<?, ?B/s]",
            "application/vnd.jupyter.widget-view+json": {
              "version_major": 2,
              "version_minor": 0,
              "model_id": "e10ba6428aec49e8b43848abdfa80720"
            }
          },
          "metadata": {}
        },
        {
          "output_type": "display_data",
          "data": {
            "text/plain": "train-00034-of-00038.parquet:   0%|          | 0.00/105M [00:00<?, ?B/s]",
            "application/vnd.jupyter.widget-view+json": {
              "version_major": 2,
              "version_minor": 0,
              "model_id": "de3283ce1b7a4357a67d989e2f4e1306"
            }
          },
          "metadata": {}
        },
        {
          "output_type": "display_data",
          "data": {
            "text/plain": "train-00035-of-00038.parquet:   0%|          | 0.00/156M [00:00<?, ?B/s]",
            "application/vnd.jupyter.widget-view+json": {
              "version_major": 2,
              "version_minor": 0,
              "model_id": "fc365cfe29d64bc693cb240d0a95dc1f"
            }
          },
          "metadata": {}
        },
        {
          "output_type": "display_data",
          "data": {
            "text/plain": "train-00036-of-00038.parquet:   0%|          | 0.00/270M [00:00<?, ?B/s]",
            "application/vnd.jupyter.widget-view+json": {
              "version_major": 2,
              "version_minor": 0,
              "model_id": "c0b6596eb9c3425aa9dc72bf98414963"
            }
          },
          "metadata": {}
        },
        {
          "output_type": "display_data",
          "data": {
            "text/plain": "train-00037-of-00038.parquet:   0%|          | 0.00/306M [00:00<?, ?B/s]",
            "application/vnd.jupyter.widget-view+json": {
              "version_major": 2,
              "version_minor": 0,
              "model_id": "37f5d6f7575946aaa756fb061009cd92"
            }
          },
          "metadata": {}
        },
        {
          "output_type": "display_data",
          "data": {
            "text/plain": "Downloading data:   0%|          | 0/17 [00:00<?, ?files/s]",
            "application/vnd.jupyter.widget-view+json": {
              "version_major": 2,
              "version_minor": 0,
              "model_id": "140bb11d0fee4e869cd494653425ce14"
            }
          },
          "metadata": {}
        },
        {
          "output_type": "display_data",
          "data": {
            "text/plain": "validation-00000-of-00017.parquet:   0%|          | 0.00/46.0M [00:00<?, ?B/s]",
            "application/vnd.jupyter.widget-view+json": {
              "version_major": 2,
              "version_minor": 0,
              "model_id": "863eda42835d48cdbe6aecb12fc18d12"
            }
          },
          "metadata": {}
        },
        {
          "output_type": "display_data",
          "data": {
            "text/plain": "validation-00001-of-00017.parquet:   0%|          | 0.00/29.4M [00:00<?, ?B/s]",
            "application/vnd.jupyter.widget-view+json": {
              "version_major": 2,
              "version_minor": 0,
              "model_id": "6d62a509fca641f6bb97840b6386e7fa"
            }
          },
          "metadata": {}
        },
        {
          "output_type": "display_data",
          "data": {
            "text/plain": "validation-00002-of-00017.parquet:   0%|          | 0.00/52.6M [00:00<?, ?B/s]",
            "application/vnd.jupyter.widget-view+json": {
              "version_major": 2,
              "version_minor": 0,
              "model_id": "d953d0c6a45e437ba3c2a811bd391406"
            }
          },
          "metadata": {}
        },
        {
          "output_type": "display_data",
          "data": {
            "text/plain": "validation-00003-of-00017.parquet:   0%|          | 0.00/40.4M [00:00<?, ?B/s]",
            "application/vnd.jupyter.widget-view+json": {
              "version_major": 2,
              "version_minor": 0,
              "model_id": "dbf7b6aa112c494faabce0db81a460fa"
            }
          },
          "metadata": {}
        },
        {
          "output_type": "display_data",
          "data": {
            "text/plain": "validation-00004-of-00017.parquet:   0%|          | 0.00/61.6M [00:00<?, ?B/s]",
            "application/vnd.jupyter.widget-view+json": {
              "version_major": 2,
              "version_minor": 0,
              "model_id": "342db9e239fb49c3bebb89a7c14f2fa4"
            }
          },
          "metadata": {}
        },
        {
          "output_type": "display_data",
          "data": {
            "text/plain": "validation-00005-of-00017.parquet:   0%|          | 0.00/57.0M [00:00<?, ?B/s]",
            "application/vnd.jupyter.widget-view+json": {
              "version_major": 2,
              "version_minor": 0,
              "model_id": "b24d5b24c4a946f9b8c73656ae9c4fb5"
            }
          },
          "metadata": {}
        },
        {
          "output_type": "display_data",
          "data": {
            "text/plain": "validation-00006-of-00017.parquet:   0%|          | 0.00/58.5M [00:00<?, ?B/s]",
            "application/vnd.jupyter.widget-view+json": {
              "version_major": 2,
              "version_minor": 0,
              "model_id": "2121b22ae62f4eb4bb0de3cfa02d112a"
            }
          },
          "metadata": {}
        },
        {
          "output_type": "display_data",
          "data": {
            "text/plain": "validation-00007-of-00017.parquet:   0%|          | 0.00/79.4M [00:00<?, ?B/s]",
            "application/vnd.jupyter.widget-view+json": {
              "version_major": 2,
              "version_minor": 0,
              "model_id": "d49bccf80b9342e6bc3f846b106891c4"
            }
          },
          "metadata": {}
        },
        {
          "output_type": "display_data",
          "data": {
            "text/plain": "validation-00008-of-00017.parquet:   0%|          | 0.00/71.7M [00:00<?, ?B/s]",
            "application/vnd.jupyter.widget-view+json": {
              "version_major": 2,
              "version_minor": 0,
              "model_id": "475ff8b0d8d447858c57ad6ee5bc1d1e"
            }
          },
          "metadata": {}
        },
        {
          "output_type": "display_data",
          "data": {
            "text/plain": "validation-00009-of-00017.parquet:   0%|          | 0.00/66.7M [00:00<?, ?B/s]",
            "application/vnd.jupyter.widget-view+json": {
              "version_major": 2,
              "version_minor": 0,
              "model_id": "584468be6ffe422fbc08e35a9ed1574e"
            }
          },
          "metadata": {}
        },
        {
          "output_type": "display_data",
          "data": {
            "text/plain": "validation-00010-of-00017.parquet:   0%|          | 0.00/60.5M [00:00<?, ?B/s]",
            "application/vnd.jupyter.widget-view+json": {
              "version_major": 2,
              "version_minor": 0,
              "model_id": "b0bab5e849fd457ca3e1b3e93115d145"
            }
          },
          "metadata": {}
        },
        {
          "output_type": "display_data",
          "data": {
            "text/plain": "validation-00011-of-00017.parquet:   0%|          | 0.00/57.5M [00:00<?, ?B/s]",
            "application/vnd.jupyter.widget-view+json": {
              "version_major": 2,
              "version_minor": 0,
              "model_id": "c1e25368ad8d4a0d90d7a81582fb6aa0"
            }
          },
          "metadata": {}
        },
        {
          "output_type": "display_data",
          "data": {
            "text/plain": "validation-00012-of-00017.parquet:   0%|          | 0.00/100M [00:00<?, ?B/s]",
            "application/vnd.jupyter.widget-view+json": {
              "version_major": 2,
              "version_minor": 0,
              "model_id": "4eafacf6e98c41f6bbf86d047a2cdba1"
            }
          },
          "metadata": {}
        },
        {
          "output_type": "display_data",
          "data": {
            "text/plain": "validation-00013-of-00017.parquet:   0%|          | 0.00/71.4M [00:00<?, ?B/s]",
            "application/vnd.jupyter.widget-view+json": {
              "version_major": 2,
              "version_minor": 0,
              "model_id": "b6b627a82e3c4d359a69a064ed85fb89"
            }
          },
          "metadata": {}
        },
        {
          "output_type": "display_data",
          "data": {
            "text/plain": "validation-00014-of-00017.parquet:   0%|          | 0.00/65.2M [00:00<?, ?B/s]",
            "application/vnd.jupyter.widget-view+json": {
              "version_major": 2,
              "version_minor": 0,
              "model_id": "cae20d8b8be84805af8c5447af89f180"
            }
          },
          "metadata": {}
        },
        {
          "output_type": "display_data",
          "data": {
            "text/plain": "validation-00015-of-00017.parquet:   0%|          | 0.00/77.1M [00:00<?, ?B/s]",
            "application/vnd.jupyter.widget-view+json": {
              "version_major": 2,
              "version_minor": 0,
              "model_id": "8fc04b0e5d39424c9216d780d0f2cf16"
            }
          },
          "metadata": {}
        },
        {
          "output_type": "display_data",
          "data": {
            "text/plain": "validation-00016-of-00017.parquet:   0%|          | 0.00/77.8M [00:00<?, ?B/s]",
            "application/vnd.jupyter.widget-view+json": {
              "version_major": 2,
              "version_minor": 0,
              "model_id": "c58a64446cdc4ba0aab0f9d31a6fe19d"
            }
          },
          "metadata": {}
        },
        {
          "output_type": "display_data",
          "data": {
            "text/plain": "Downloading data:   0%|          | 0/17 [00:00<?, ?files/s]",
            "application/vnd.jupyter.widget-view+json": {
              "version_major": 2,
              "version_minor": 0,
              "model_id": "a370a52de89b4057975243eaa0774142"
            }
          },
          "metadata": {}
        },
        {
          "output_type": "display_data",
          "data": {
            "text/plain": "test-00000-of-00017.parquet:   0%|          | 0.00/70.0M [00:00<?, ?B/s]",
            "application/vnd.jupyter.widget-view+json": {
              "version_major": 2,
              "version_minor": 0,
              "model_id": "fd7a7ed0463f419ea0244450c2044f51"
            }
          },
          "metadata": {}
        },
        {
          "output_type": "display_data",
          "data": {
            "text/plain": "test-00001-of-00017.parquet:   0%|          | 0.00/34.4M [00:00<?, ?B/s]",
            "application/vnd.jupyter.widget-view+json": {
              "version_major": 2,
              "version_minor": 0,
              "model_id": "8e1c065b0b0748dab6858e6d420ccae9"
            }
          },
          "metadata": {}
        },
        {
          "output_type": "display_data",
          "data": {
            "text/plain": "test-00002-of-00017.parquet:   0%|          | 0.00/50.8M [00:00<?, ?B/s]",
            "application/vnd.jupyter.widget-view+json": {
              "version_major": 2,
              "version_minor": 0,
              "model_id": "2dc5d94dba2e41b992513e94bdfbe41f"
            }
          },
          "metadata": {}
        },
        {
          "output_type": "display_data",
          "data": {
            "text/plain": "test-00003-of-00017.parquet:   0%|          | 0.00/55.2M [00:00<?, ?B/s]",
            "application/vnd.jupyter.widget-view+json": {
              "version_major": 2,
              "version_minor": 0,
              "model_id": "88a0443e645049f38f4ef220d26b56ed"
            }
          },
          "metadata": {}
        },
        {
          "output_type": "display_data",
          "data": {
            "text/plain": "test-00004-of-00017.parquet:   0%|          | 0.00/64.9M [00:00<?, ?B/s]",
            "application/vnd.jupyter.widget-view+json": {
              "version_major": 2,
              "version_minor": 0,
              "model_id": "435d482431054d26b8bafd349e7399bf"
            }
          },
          "metadata": {}
        },
        {
          "output_type": "display_data",
          "data": {
            "text/plain": "test-00005-of-00017.parquet:   0%|          | 0.00/58.2M [00:00<?, ?B/s]",
            "application/vnd.jupyter.widget-view+json": {
              "version_major": 2,
              "version_minor": 0,
              "model_id": "d434833cbe1e40cb90faa34595c0b613"
            }
          },
          "metadata": {}
        },
        {
          "output_type": "display_data",
          "data": {
            "text/plain": "test-00006-of-00017.parquet:   0%|          | 0.00/65.9M [00:00<?, ?B/s]",
            "application/vnd.jupyter.widget-view+json": {
              "version_major": 2,
              "version_minor": 0,
              "model_id": "eafd082c917d4684bb92127edba66f66"
            }
          },
          "metadata": {}
        },
        {
          "output_type": "display_data",
          "data": {
            "text/plain": "test-00007-of-00017.parquet:   0%|          | 0.00/63.5M [00:00<?, ?B/s]",
            "application/vnd.jupyter.widget-view+json": {
              "version_major": 2,
              "version_minor": 0,
              "model_id": "732401ab3bdd4abbb330a4e82feac3eb"
            }
          },
          "metadata": {}
        },
        {
          "output_type": "display_data",
          "data": {
            "text/plain": "test-00008-of-00017.parquet:   0%|          | 0.00/69.5M [00:00<?, ?B/s]",
            "application/vnd.jupyter.widget-view+json": {
              "version_major": 2,
              "version_minor": 0,
              "model_id": "01d237bba94d402badbc2c8ffc171584"
            }
          },
          "metadata": {}
        },
        {
          "output_type": "display_data",
          "data": {
            "text/plain": "test-00009-of-00017.parquet:   0%|          | 0.00/61.1M [00:00<?, ?B/s]",
            "application/vnd.jupyter.widget-view+json": {
              "version_major": 2,
              "version_minor": 0,
              "model_id": "55a9628a14714645a4453e79c06781a9"
            }
          },
          "metadata": {}
        },
        {
          "output_type": "display_data",
          "data": {
            "text/plain": "test-00010-of-00017.parquet:   0%|          | 0.00/70.4M [00:00<?, ?B/s]",
            "application/vnd.jupyter.widget-view+json": {
              "version_major": 2,
              "version_minor": 0,
              "model_id": "e726a2d8f1714bdd9975430c8a68765d"
            }
          },
          "metadata": {}
        },
        {
          "output_type": "display_data",
          "data": {
            "text/plain": "test-00011-of-00017.parquet:   0%|          | 0.00/68.1M [00:00<?, ?B/s]",
            "application/vnd.jupyter.widget-view+json": {
              "version_major": 2,
              "version_minor": 0,
              "model_id": "734ade0578ac4cb6a4e1b00a7be952a9"
            }
          },
          "metadata": {}
        },
        {
          "output_type": "display_data",
          "data": {
            "text/plain": "test-00012-of-00017.parquet:   0%|          | 0.00/69.0M [00:00<?, ?B/s]",
            "application/vnd.jupyter.widget-view+json": {
              "version_major": 2,
              "version_minor": 0,
              "model_id": "48f5b80b245e424692daa81cb6821258"
            }
          },
          "metadata": {}
        },
        {
          "output_type": "display_data",
          "data": {
            "text/plain": "test-00013-of-00017.parquet:   0%|          | 0.00/83.3M [00:00<?, ?B/s]",
            "application/vnd.jupyter.widget-view+json": {
              "version_major": 2,
              "version_minor": 0,
              "model_id": "ba117919e8b14acd84ffca76ebbea100"
            }
          },
          "metadata": {}
        },
        {
          "output_type": "display_data",
          "data": {
            "text/plain": "test-00014-of-00017.parquet:   0%|          | 0.00/59.0M [00:00<?, ?B/s]",
            "application/vnd.jupyter.widget-view+json": {
              "version_major": 2,
              "version_minor": 0,
              "model_id": "fe24364820e34184b72c9095c07c238f"
            }
          },
          "metadata": {}
        },
        {
          "output_type": "display_data",
          "data": {
            "text/plain": "test-00015-of-00017.parquet:   0%|          | 0.00/91.6M [00:00<?, ?B/s]",
            "application/vnd.jupyter.widget-view+json": {
              "version_major": 2,
              "version_minor": 0,
              "model_id": "82e6c64913f8493ab608faa704df9508"
            }
          },
          "metadata": {}
        },
        {
          "output_type": "display_data",
          "data": {
            "text/plain": "test-00016-of-00017.parquet:   0%|          | 0.00/85.8M [00:00<?, ?B/s]",
            "application/vnd.jupyter.widget-view+json": {
              "version_major": 2,
              "version_minor": 0,
              "model_id": "16ee9cd914e5405c9a4ec2121f5ea8db"
            }
          },
          "metadata": {}
        },
        {
          "output_type": "display_data",
          "data": {
            "text/plain": "Generating train split:   0%|          | 0/39463 [00:00<?, ? examples/s]",
            "application/vnd.jupyter.widget-view+json": {
              "version_major": 2,
              "version_minor": 0,
              "model_id": "c3d33c0acafc4d14a64725b946b7b7ad"
            }
          },
          "metadata": {}
        },
        {
          "output_type": "display_data",
          "data": {
            "text/plain": "Generating validation split:   0%|          | 0/5349 [00:00<?, ? examples/s]",
            "application/vnd.jupyter.widget-view+json": {
              "version_major": 2,
              "version_minor": 0,
              "model_id": "a9eaabd0dcc647e3a37a6e85b80f0af6"
            }
          },
          "metadata": {}
        },
        {
          "output_type": "display_data",
          "data": {
            "text/plain": "Generating test split:   0%|          | 0/5188 [00:00<?, ? examples/s]",
            "application/vnd.jupyter.widget-view+json": {
              "version_major": 2,
              "version_minor": 0,
              "model_id": "2923599d0e7b4600b81669e9af007ba0"
            }
          },
          "metadata": {}
        }
      ],
      "execution_count": null
    },
    {
      "cell_type": "code",
      "source": [
        "# Split into train (1000 samples) and test (100 samples)\n",
        "split_dataset = data.train_test_split(test_size=100, train_size=1000, seed=42)\n",
        "\n",
        "# Access train and test datasets\n",
        "train_dataset = split_dataset['train']\n",
        "test_dataset = split_dataset['test']\n"
      ],
      "metadata": {
        "trusted": true,
        "execution": {
          "iopub.status.busy": "2025-01-19T20:23:21.916801Z",
          "iopub.execute_input": "2025-01-19T20:23:21.917131Z",
          "iopub.status.idle": "2025-01-19T20:23:21.935726Z",
          "shell.execute_reply.started": "2025-01-19T20:23:21.917102Z",
          "shell.execute_reply": "2025-01-19T20:23:21.934702Z"
        },
        "id": "jQ75-L1cb0cl"
      },
      "outputs": [],
      "execution_count": null
    },
    {
      "cell_type": "markdown",
      "source": [
        "### Let's test the model before fine-tunning\n"
      ],
      "metadata": {
        "id": "A-JE6-nub0cm"
      }
    },
    {
      "cell_type": "code",
      "source": [],
      "metadata": {
        "trusted": true,
        "id": "n-Pl5nuxb0cm"
      },
      "outputs": [],
      "execution_count": null
    },
    {
      "cell_type": "code",
      "source": [
        "def generate_res(text, image, model):\n",
        "  task_prompt = 'DocVQA'\n",
        "  prompt = task_prompt + text\n",
        "\n",
        "  if image.mode != \"RGB\":\n",
        "    image = image.convert(\"RGB\")\n",
        "\n",
        "  inputs = processor(text=prompt, images=image, return_tensors=\"pt\").to(device)\n",
        "  generated_ids = model.generate(\n",
        "        input_ids=inputs[\"input_ids\"],\n",
        "        pixel_values=inputs[\"pixel_values\"],\n",
        "        max_new_tokens=1024,\n",
        "        num_beams=2\n",
        "    )\n",
        "  generated_text = processor.batch_decode(generated_ids, skip_special_tokens=False)[0]\n",
        "  parsed_answer = processor.post_process_generation(generated_text, task=task_prompt, image_size=(image.width, image.height))\n",
        "  return parsed_answer\n",
        "\n"
      ],
      "metadata": {
        "trusted": true,
        "execution": {
          "iopub.status.busy": "2025-01-19T20:56:05.799293Z",
          "iopub.execute_input": "2025-01-19T20:56:05.799629Z",
          "iopub.status.idle": "2025-01-19T20:56:05.805096Z",
          "shell.execute_reply.started": "2025-01-19T20:56:05.799606Z",
          "shell.execute_reply": "2025-01-19T20:56:05.804142Z"
        },
        "id": "MlCLP9d7b0cn"
      },
      "outputs": [],
      "execution_count": null
    },
    {
      "cell_type": "code",
      "source": [
        "for idx in range(2):\n",
        "  print(generate_res('What is the date mentioed in the image?', data[idx]['image'], p_model))\n"
      ],
      "metadata": {
        "trusted": true,
        "execution": {
          "iopub.status.busy": "2025-01-19T20:44:49.851565Z",
          "iopub.execute_input": "2025-01-19T20:44:49.851868Z",
          "iopub.status.idle": "2025-01-19T20:44:50.591303Z",
          "shell.execute_reply.started": "2025-01-19T20:44:49.851846Z",
          "shell.execute_reply": "2025-01-19T20:44:50.59058Z"
        },
        "id": "3KurNpFLb0cn",
        "outputId": "20347d54-7fdc-4408-8239-8a30d6123a26"
      },
      "outputs": [
        {
          "name": "stdout",
          "text": "{'DocVQA': '037'}\n{'DocVQA': '037'}\n",
          "output_type": "stream"
        }
      ],
      "execution_count": null
    },
    {
      "cell_type": "markdown",
      "source": [
        "## Isn't the response wrong?"
      ],
      "metadata": {
        "id": "69TLzihgb0co"
      }
    },
    {
      "cell_type": "markdown",
      "source": [
        "## Now let's prepare the dataset for fine tunning:"
      ],
      "metadata": {
        "id": "-Jdc1VIab0cp"
      }
    },
    {
      "cell_type": "code",
      "source": [
        "class DocVQADataset(Dataset):\n",
        "    def __init__(self, data):\n",
        "        self.data = data\n",
        "\n",
        "    def __len__(self):\n",
        "        return len(self.data)\n",
        "\n",
        "    def __getitem__(self, idx):\n",
        "        example = self.data[idx]\n",
        "        question = \"<DocVQA>\" + example['question']\n",
        "        first_answer = example['answers'][0]\n",
        "        image = example['image']\n",
        "        if image.mode != \"RGB\":\n",
        "            image = image.convert(\"RGB\")\n",
        "        return question, first_answer, image\n"
      ],
      "metadata": {
        "trusted": true,
        "execution": {
          "iopub.status.busy": "2025-01-19T20:24:11.178881Z",
          "iopub.execute_input": "2025-01-19T20:24:11.179213Z",
          "iopub.status.idle": "2025-01-19T20:24:11.184315Z",
          "shell.execute_reply.started": "2025-01-19T20:24:11.179186Z",
          "shell.execute_reply": "2025-01-19T20:24:11.183645Z"
        },
        "id": "PF9-akACb0cp"
      },
      "outputs": [],
      "execution_count": null
    },
    {
      "cell_type": "code",
      "source": [
        "train_dataset = DocVQADataset(train_dataset)\n",
        "val_dataset = DocVQADataset(test_dataset)"
      ],
      "metadata": {
        "trusted": true,
        "execution": {
          "iopub.status.busy": "2025-01-19T20:24:22.700377Z",
          "iopub.execute_input": "2025-01-19T20:24:22.700743Z",
          "iopub.status.idle": "2025-01-19T20:24:22.704437Z",
          "shell.execute_reply.started": "2025-01-19T20:24:22.700715Z",
          "shell.execute_reply": "2025-01-19T20:24:22.703656Z"
        },
        "id": "PFXXmn5ub0cq"
      },
      "outputs": [],
      "execution_count": null
    },
    {
      "cell_type": "code",
      "source": [
        "def collate_fn(batch):\n",
        "    questions, answers, images = zip(*batch)\n",
        "    inputs = processor(text=list(questions), images=list(images), return_tensors=\"pt\", padding=True).to(device)\n",
        "    return inputs, answers\n"
      ],
      "metadata": {
        "trusted": true,
        "execution": {
          "iopub.status.busy": "2025-01-19T20:24:31.406651Z",
          "iopub.execute_input": "2025-01-19T20:24:31.406998Z",
          "iopub.status.idle": "2025-01-19T20:24:31.411185Z",
          "shell.execute_reply.started": "2025-01-19T20:24:31.406973Z",
          "shell.execute_reply": "2025-01-19T20:24:31.41036Z"
        },
        "id": "IUkEOGzWb0cq"
      },
      "outputs": [],
      "execution_count": null
    },
    {
      "cell_type": "code",
      "source": [
        "batch_size = 1\n",
        "num_workers = 0\n",
        "train_loader = DataLoader(train_dataset, batch_size=batch_size, shuffle=True, collate_fn=collate_fn, num_workers=num_workers)\n",
        "val_loader = DataLoader(val_dataset, batch_size=batch_size, shuffle=False, collate_fn=collate_fn, num_workers=num_workers)\n"
      ],
      "metadata": {
        "trusted": true,
        "execution": {
          "iopub.status.busy": "2025-01-19T20:24:40.599658Z",
          "iopub.execute_input": "2025-01-19T20:24:40.599934Z",
          "iopub.status.idle": "2025-01-19T20:24:40.60444Z",
          "shell.execute_reply.started": "2025-01-19T20:24:40.599912Z",
          "shell.execute_reply": "2025-01-19T20:24:40.603574Z"
        },
        "id": "oQkwcJzjb0cr"
      },
      "outputs": [],
      "execution_count": null
    },
    {
      "cell_type": "code",
      "source": [
        "for batch in train_loader:\n",
        "    inputs, labels = batch  # Unpack inputs and labels\n",
        "    print(\"Inputs:\", inputs)\n",
        "    print(\"Labels:\", labels)\n",
        "    break"
      ],
      "metadata": {
        "trusted": true,
        "execution": {
          "iopub.status.busy": "2025-01-19T21:01:31.112026Z",
          "iopub.execute_input": "2025-01-19T21:01:31.112328Z",
          "iopub.status.idle": "2025-01-19T21:01:31.267791Z",
          "shell.execute_reply.started": "2025-01-19T21:01:31.112306Z",
          "shell.execute_reply": "2025-01-19T21:01:31.267038Z"
        },
        "id": "dBm6L7m9b0cr",
        "outputId": "24d0718b-501a-4f91-e4ee-3d72dfb8e75f"
      },
      "outputs": [
        {
          "name": "stdout",
          "text": "Inputs: {'input_ids': tensor([[    0, 41552, 42291,   846,  1864,   250, 15698, 12196,    16,  1566,\n           231,   116,     2]], device='cuda:0'), 'attention_mask': tensor([[1, 1, 1, 1, 1, 1, 1, 1, 1, 1, 1, 1, 1]], device='cuda:0'), 'pixel_values': tensor([[[[2.2489, 2.2489, 2.2489,  ..., 2.2489, 2.2489, 2.2489],\n          [2.2489, 2.2489, 2.2489,  ..., 2.2489, 2.2489, 2.2489],\n          [2.2489, 2.2489, 2.2489,  ..., 2.2489, 2.2489, 2.2489],\n          ...,\n          [2.2489, 2.2489, 2.2489,  ..., 2.2489, 2.2489, 2.2489],\n          [2.2489, 2.2489, 2.2489,  ..., 2.2489, 2.2489, 2.2489],\n          [2.2489, 2.2489, 2.2489,  ..., 2.2489, 2.2489, 2.2489]],\n\n         [[2.4286, 2.4286, 2.4286,  ..., 2.4286, 2.4286, 2.4286],\n          [2.4286, 2.4286, 2.4286,  ..., 2.4286, 2.4286, 2.4286],\n          [2.4286, 2.4286, 2.4286,  ..., 2.4286, 2.4286, 2.4286],\n          ...,\n          [2.4286, 2.4286, 2.4286,  ..., 2.4286, 2.4286, 2.4286],\n          [2.4286, 2.4286, 2.4286,  ..., 2.4286, 2.4286, 2.4286],\n          [2.4286, 2.4286, 2.4286,  ..., 2.4286, 2.4286, 2.4286]],\n\n         [[2.6400, 2.6400, 2.6400,  ..., 2.6400, 2.6400, 2.6400],\n          [2.6400, 2.6400, 2.6400,  ..., 2.6400, 2.6400, 2.6400],\n          [2.6400, 2.6400, 2.6400,  ..., 2.6400, 2.6400, 2.6400],\n          ...,\n          [2.6400, 2.6400, 2.6400,  ..., 2.6400, 2.6400, 2.6400],\n          [2.6400, 2.6400, 2.6400,  ..., 2.6400, 2.6400, 2.6400],\n          [2.6400, 2.6400, 2.6400,  ..., 2.6400, 2.6400, 2.6400]]]],\n       device='cuda:0')}\nLabels: ('(DUTIES OF RESPONSIBLE PERSON IN CHARGE OF STORAGE AND PERSON IN CHARGE OF STORAGE)',)\n",
          "output_type": "stream"
        }
      ],
      "execution_count": null
    },
    {
      "cell_type": "code",
      "source": [
        "def train_model(train_loader, val_loader, model, processor, epochs=10, lr=1e-6):\n",
        "    optimizer = AdamW(model.parameters(), lr=lr)\n",
        "    num_training_steps = epochs * len(train_loader)\n",
        "    lr_scheduler = get_scheduler(\n",
        "        name=\"linear\",\n",
        "        optimizer=optimizer,\n",
        "        num_warmup_steps=0,\n",
        "        num_training_steps=num_training_steps,\n",
        "    )\n",
        "\n",
        "    for epoch in range(epochs):\n",
        "        model.train()\n",
        "        train_loss = 0\n",
        "        i = -1\n",
        "        for batch in tqdm(train_loader, desc=f\"Training Epoch {epoch + 1}/{epochs}\"):\n",
        "            i += 1\n",
        "            inputs, answers = batch\n",
        "\n",
        "            input_ids = inputs[\"input_ids\"]\n",
        "            pixel_values = inputs[\"pixel_values\"]\n",
        "            labels = processor.tokenizer(text=answers, return_tensors=\"pt\", padding=True, return_token_type_ids=False).input_ids.to(device)\n",
        "\n",
        "            outputs = model(input_ids=input_ids, pixel_values=pixel_values, labels=labels)\n",
        "            loss = outputs.loss\n",
        "\n",
        "            loss.backward()\n",
        "            optimizer.step()\n",
        "            lr_scheduler.step()\n",
        "            optimizer.zero_grad()\n",
        "\n",
        "            train_loss += loss.item()\n",
        "\n",
        "        avg_train_loss = train_loss / len(train_loader)\n",
        "        print(f\"Average Training Loss: {avg_train_loss}\")\n",
        "\n",
        "        # Validation phase\n",
        "        model.eval()\n",
        "        val_loss = 0\n",
        "        with torch.no_grad():\n",
        "            for batch in tqdm(val_loader, desc=f\"Validation Epoch {epoch + 1}/{epochs}\"):\n",
        "                inputs, answers = batch\n",
        "\n",
        "                input_ids = inputs[\"input_ids\"]\n",
        "                pixel_values = inputs[\"pixel_values\"]\n",
        "                labels = processor.tokenizer(text=answers, return_tensors=\"pt\", padding=True, return_token_type_ids=False).input_ids.to(device)\n",
        "\n",
        "                outputs = model(input_ids=input_ids, pixel_values=pixel_values, labels=labels)\n",
        "                loss = outputs.loss\n",
        "\n",
        "                val_loss += loss.item()\n",
        "\n",
        "        avg_val_loss = val_loss / len(val_loader)\n",
        "        print(f\"Average Validation Loss: {avg_val_loss}\")\n",
        "\n",
        "        # Save model checkpoint\n",
        "        output_dir = f\"./model_checkpoints/epoch_{epoch+1}\"\n",
        "        os.makedirs(output_dir, exist_ok=True)\n",
        "        model.save_pretrained(output_dir)\n",
        "        processor.save_pretrained(output_dir)\n",
        "\n",
        "\n"
      ],
      "metadata": {
        "trusted": true,
        "execution": {
          "iopub.status.busy": "2025-01-19T20:24:48.277035Z",
          "iopub.execute_input": "2025-01-19T20:24:48.277324Z",
          "iopub.status.idle": "2025-01-19T20:24:48.285399Z",
          "shell.execute_reply.started": "2025-01-19T20:24:48.277302Z",
          "shell.execute_reply": "2025-01-19T20:24:48.284486Z"
        },
        "id": "RfabxGO9b0cs"
      },
      "outputs": [],
      "execution_count": null
    },
    {
      "cell_type": "code",
      "source": [
        "# Note: We will freeze image encoder for this tutorial. The authors have reported improvement in unfreezing image encoder, but note that this will result in more resource usage.\n",
        "for param in model.vision_tower.parameters():\n",
        "  param.is_trainable = False\n",
        "\n",
        "train_model(train_loader, val_loader, model, processor, epochs=1)"
      ],
      "metadata": {
        "trusted": true,
        "execution": {
          "iopub.status.busy": "2025-01-19T20:24:55.987482Z",
          "iopub.execute_input": "2025-01-19T20:24:55.987848Z",
          "iopub.status.idle": "2025-01-19T20:39:07.275457Z",
          "shell.execute_reply.started": "2025-01-19T20:24:55.98782Z",
          "shell.execute_reply": "2025-01-19T20:39:07.274731Z"
        },
        "id": "3WYxp9FKb0ct",
        "outputId": "e2415212-eb37-4472-a556-794f9a55fc08"
      },
      "outputs": [
        {
          "name": "stderr",
          "text": "/usr/local/lib/python3.10/dist-packages/transformers/optimization.py:591: FutureWarning: This implementation of AdamW is deprecated and will be removed in a future version. Use the PyTorch implementation torch.optim.AdamW instead, or set `no_deprecation_warning=True` to disable this warning\n  warnings.warn(\nTraining Epoch 1/1: 100%|██████████| 1000/1000 [13:37<00:00,  1.22it/s]\n",
          "output_type": "stream"
        },
        {
          "name": "stdout",
          "text": "Average Training Loss: 1.984464497994166\n",
          "output_type": "stream"
        },
        {
          "name": "stderr",
          "text": "Validation Epoch 1/1: 100%|██████████| 100/100 [00:31<00:00,  3.20it/s]\n",
          "output_type": "stream"
        },
        {
          "name": "stdout",
          "text": "Average Validation Loss: 1.5345515730232\n",
          "output_type": "stream"
        }
      ],
      "execution_count": null
    },
    {
      "cell_type": "markdown",
      "source": [
        "### Let's test the fine tuned model now"
      ],
      "metadata": {
        "id": "knZGima3b0cu"
      }
    },
    {
      "cell_type": "code",
      "source": [
        "for idx in range(2):\n",
        "  print(generate_res('What is the date mentioed in the image?', data[idx]['image'], model))\n"
      ],
      "metadata": {
        "trusted": true,
        "execution": {
          "iopub.status.busy": "2025-01-19T20:45:49.927363Z",
          "iopub.execute_input": "2025-01-19T20:45:49.927686Z",
          "iopub.status.idle": "2025-01-19T20:45:50.665046Z",
          "shell.execute_reply.started": "2025-01-19T20:45:49.927661Z",
          "shell.execute_reply": "2025-01-19T20:45:50.66435Z"
        },
        "id": "GSIMMwwMb0cu",
        "outputId": "6cc19388-0657-4fb1-b5a9-5cdb0d778f1a"
      },
      "outputs": [
        {
          "name": "stdout",
          "text": "{'DocVQA': '11/18/18'}\n{'DocVQA': '11/18/18'}\n",
          "output_type": "stream"
        }
      ],
      "execution_count": null
    },
    {
      "cell_type": "markdown",
      "source": [
        "## So, The response is what I expected, cool"
      ],
      "metadata": {
        "id": "fxgM05zTb0cv"
      }
    }
  ]
}